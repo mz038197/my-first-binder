{
  "nbformat": 4,
  "nbformat_minor": 0,
  "metadata": {
    "colab": {
      "provenance": []
    },
    "kernelspec": {
      "name": "python3",
      "display_name": "Python 3"
    },
    "language_info": {
      "name": "python"
    }
  },
  "cells": [
    {
      "cell_type": "markdown",
      "source": [
        "# [實作練習1] 課本 P9-7"
      ],
      "metadata": {
        "id": "g_27weiPJPs6"
      }
    },
    {
      "cell_type": "markdown",
      "source": [
        "## 開啟文字檔<file3.txt>, 在每段文章前面加上編號 ex: Addlineno.py"
      ],
      "metadata": {
        "id": "ppe2U5JLJnIc"
      }
    },
    {
      "cell_type": "code",
      "execution_count": null,
      "metadata": {
        "colab": {
          "base_uri": "https://localhost:8080/"
        },
        "id": "KUEFzxr-HZYx",
        "outputId": "440e2c36-502b-49ad-98e5-c371f0a38d77"
      },
      "outputs": [
        {
          "output_type": "stream",
          "name": "stdout",
          "text": [
            " 1 : 串列 (又稱為「清單」或「列表」)，與其他語言的「陣列 (Array)」相同，其功能與變數相類似，是提供儲存資料的記憶體空間。\n",
            "\n",
            " 2 : 每一個串列擁有一個名稱，做為識別該串列的標誌；串列中每一個資料稱為「元素」，每一個串列元素相當於一個變數，如此就可輕易儲存大量的資料儲存空間。\n",
            "\n",
            " 3 : 可以把串列想成是有許多相同名稱的箱子，連續排列在一起，這些箱子可以儲存資料，而每個箱子有不同編號，如果要存取箱子中的資料，只要指定編號即可存取對應箱子內的資料。\n"
          ]
        }
      ],
      "source": [
        "file = \"/content/Datas/file3.txt\"\n",
        "with open(file,'r', encoding='cp950') as f:\n",
        "    content = f.readlines()\n",
        "\n",
        "i=1\n",
        "for row in content:\n",
        "    print(\"%2s : %s\" %(i,row))\n",
        "    i+=1"
      ]
    },
    {
      "cell_type": "markdown",
      "source": [
        "\n",
        "\n",
        "---\n",
        "\n"
      ],
      "metadata": {
        "id": "y7_3cJxOLFRI"
      }
    },
    {
      "cell_type": "markdown",
      "source": [
        "# [實作練習2] 課本 P9-7"
      ],
      "metadata": {
        "id": "NKzJm_QrK-GO"
      }
    },
    {
      "cell_type": "markdown",
      "source": [
        "## 小龍也幫阿甘以 with...as 語法"
      ],
      "metadata": {
        "id": "-oZsS86uWUGB"
      }
    },
    {
      "cell_type": "code",
      "source": [],
      "metadata": {
        "id": "Kcgt-_vGWtZJ"
      },
      "execution_count": null,
      "outputs": []
    }
  ]
}