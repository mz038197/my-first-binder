{
  "cells": [
    {
      "cell_type": "markdown",
      "metadata": {
        "id": "BUpoThcrj5qK"
      },
      "source": [
        "## **9.1 檔案的操作**"
      ]
    },
    {
      "cell_type": "markdown",
      "metadata": {
        "id": "g_27weiPJPs6"
      },
      "source": [
        "### **範例實作 P9-3** ：以讀取模式開啟檔案並顯示資料\n",
        "#### 小龍接著以 open 函式讀取 <file1.txt> 檔，並將資料內容顯示出來。\n",
        "(<fileread1.py>)"
      ]
    },
    {
      "cell_type": "code",
      "execution_count": 1,
      "metadata": {
        "id": "jBKZwzSHkEGN"
      },
      "outputs": [],
      "source": [
        "# Please enter your code here"
      ]
    },
    {
      "cell_type": "markdown",
      "metadata": {
        "id": "NTBNJinrsTrJ"
      },
      "source": [
        "<br>"
      ]
    },
    {
      "cell_type": "markdown",
      "metadata": {
        "id": "ppe2U5JLJnIc"
      },
      "source": [
        "### ⚡**範例實作 P9-4** :以with…as語法開啟檔案並顯示資料\n",
        "#### 小龍也幫阿甘以 with…as 語法搭配open()函式讀取 <file1.txt> 檔，同樣也可以顯示資料內容，而且還會主動關閉檔案。(<fileread2.py>)"
      ]
    },
    {
      "cell_type": "code",
      "execution_count": 2,
      "metadata": {
        "id": "KUEFzxr-HZYx"
      },
      "outputs": [],
      "source": [
        "# Please enter your code here"
      ]
    },
    {
      "cell_type": "markdown",
      "metadata": {
        "id": "Fn9gyEH_sS-B"
      },
      "source": [
        "<br>"
      ]
    },
    {
      "cell_type": "markdown",
      "metadata": {
        "id": "oiyjUPL7lAzM"
      },
      "source": [
        "### ⚡**範例實作 P9-7** : 在每段文章的前面加上編號\n",
        "#### 開啟文字檔 <file3.txt>，以 readlines() 方法讀取所有資料並在每段文章的前面加上編號。(<Addlineno.py>)\n"
      ]
    },
    {
      "cell_type": "code",
      "execution_count": 3,
      "metadata": {
        "id": "8SlSPOE1lFU6"
      },
      "outputs": [],
      "source": [
        "# Please enter your code here"
      ]
    },
    {
      "cell_type": "markdown",
      "metadata": {
        "id": "Pz0W8DWUsRH3"
      },
      "source": [
        "<br>"
      ]
    },
    {
      "cell_type": "markdown",
      "metadata": {
        "id": "Xsb9Kj-MlcWx"
      },
      "source": [
        "### **延伸練習 P9-8**：\n",
        "#### 開啟文字檔<file2.txt>，以 read() 方法讀取後計算文章中總共有多少個字元。(<Addlineno_cl.py>)"
      ]
    },
    {
      "cell_type": "code",
      "execution_count": 4,
      "metadata": {
        "id": "xUdVlRQpldGi"
      },
      "outputs": [],
      "source": [
        "# Please enter your code here"
      ]
    },
    {
      "cell_type": "markdown",
      "metadata": {
        "id": "VyG2Vua-sP39"
      },
      "source": [
        "<br>"
      ]
    },
    {
      "cell_type": "markdown",
      "metadata": {
        "id": "m_AWmUgSqT81"
      },
      "source": [
        "## **9.2 檔案和目錄管理**"
      ]
    },
    {
      "cell_type": "markdown",
      "metadata": {
        "id": "HBCc5i-mqZ2v"
      },
      "source": [
        "### ⚡**範例實作 P9-10** ：rmdir方法\n",
        "#### 檢查<myDir>資料夾是否存在，如果在則刪除，不在則顯示訊息。(<osrmdir.py>)"
      ]
    },
    {
      "cell_type": "code",
      "execution_count": 5,
      "metadata": {
        "id": "MT9NwPcwq_qu"
      },
      "outputs": [],
      "source": [
        "# Please enter your code here"
      ]
    },
    {
      "cell_type": "markdown",
      "metadata": {
        "id": "Ilu6-oqlsMHu"
      },
      "source": [
        "<br>"
      ]
    },
    {
      "cell_type": "markdown",
      "metadata": {
        "id": "-sYr_R6fllwQ"
      },
      "source": [
        "## **9.3 例外處理**"
      ]
    },
    {
      "cell_type": "markdown",
      "metadata": {
        "id": "LWVV40vblqi1"
      },
      "source": [
        "### ⚡**範例實作 P9-12** ：輸入兩個正整數求和，捕捉輸入的錯誤\n",
        "#### 班上的除錯高手大元，在他的程式中加入了錯誤的捕捉，在輸入兩個正整數，求兩數之和的程式中，若輸入非數值資料，可以 try…except 輕鬆捕捉發生的錯誤。(<tryadd.py>)\n",
        "\n"
      ]
    },
    {
      "cell_type": "code",
      "execution_count": 6,
      "metadata": {
        "id": "npNOBAR_lmUM"
      },
      "outputs": [],
      "source": [
        "# Please enter your code here"
      ]
    },
    {
      "cell_type": "markdown",
      "metadata": {
        "id": "WmAv5i7VsJYh"
      },
      "source": [
        "<br>"
      ]
    },
    {
      "cell_type": "markdown",
      "metadata": {
        "id": "4kRlyByvl3Hx"
      },
      "source": [
        "### ⚡**延伸練習 P9-13** :\n",
        "#### 大元接著又改進以 open 函式開啟檔案並顯示檔案內容的程式，讓程式處理當輸入檔案不存在或檔案開啟錯誤時，可以 try…except 捕捉發生的錯誤。(<tryopenfile.py>)"
      ]
    },
    {
      "cell_type": "code",
      "execution_count": 7,
      "metadata": {
        "id": "2O2Y3BGil8Fy"
      },
      "outputs": [],
      "source": [
        "# Please enter your code here"
      ]
    },
    {
      "cell_type": "markdown",
      "metadata": {
        "id": "l644jfy0sHqn"
      },
      "source": [
        "<br>"
      ]
    },
    {
      "cell_type": "markdown",
      "metadata": {
        "id": "DM5Go1faoA3M"
      },
      "source": [
        "### **範例實作 P9-14** ：捕捉非數值資料和除數為 0 的錯誤\n",
        "#### 放假回來，大元展示他的得意作品。當輸入兩個正整數，求兩數之餘數時，可以 try…except 捕捉多個發生的錯誤，包括輸入非數值資料和除數為 0 的錯誤，大家都同聲說讚。(<trymod.py>)"
      ]
    },
    {
      "cell_type": "code",
      "execution_count": 8,
      "metadata": {
        "id": "mWr0xPYLoCYG"
      },
      "outputs": [],
      "source": [
        "# Please enter your code here"
      ]
    },
    {
      "cell_type": "markdown",
      "metadata": {
        "id": "eHhcE-K_sFR9"
      },
      "source": [
        "<br>"
      ]
    },
    {
      "cell_type": "markdown",
      "metadata": {
        "id": "c2AjisqAoGaK"
      },
      "source": [
        "### ⚡**延伸練習 P9-15** ：\n",
        "#### 輸入兩個正整數，求兩數相除，以 try…except 捕捉發生的錯誤，包括輸入非數值資料和除數為 0 的錯誤。(<trydiv.py>)"
      ]
    },
    {
      "cell_type": "code",
      "execution_count": 9,
      "metadata": {
        "id": "wV-nNbM4oIZo"
      },
      "outputs": [],
      "source": [
        "# Please enter your code here"
      ]
    },
    {
      "cell_type": "markdown",
      "metadata": {},
      "source": [
        "<br>"
      ]
    },
    {
      "cell_type": "markdown",
      "metadata": {},
      "source": [
        "## **9.4 單元測試**"
      ]
    },
    {
      "cell_type": "markdown",
      "metadata": {},
      "source": [
        "### ⚡**範例實作 P9-16** ：單元測試測試自訂的函式\n",
        "#### 自訂 plus 和 minus 函式。(<unittest2.py>)"
      ]
    },
    {
      "cell_type": "code",
      "execution_count": 1,
      "metadata": {},
      "outputs": [],
      "source": [
        "# Please enter your code here"
      ]
    }
  ],
  "metadata": {
    "colab": {
      "provenance": [],
      "toc_visible": true
    },
    "kernelspec": {
      "display_name": "Python 3",
      "name": "python3"
    },
    "language_info": {
      "codemirror_mode": {
        "name": "ipython",
        "version": 3
      },
      "file_extension": ".py",
      "mimetype": "text/x-python",
      "name": "python",
      "nbconvert_exporter": "python",
      "pygments_lexer": "ipython3",
      "version": "3.13.0"
    }
  },
  "nbformat": 4,
  "nbformat_minor": 0
}
