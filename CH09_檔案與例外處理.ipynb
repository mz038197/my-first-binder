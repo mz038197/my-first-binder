{
  "nbformat": 4,
  "nbformat_minor": 0,
  "metadata": {
    "colab": {
      "provenance": [],
      "toc_visible": true
    },
    "kernelspec": {
      "name": "python3",
      "display_name": "Python 3"
    },
    "language_info": {
      "name": "python"
    }
  },
  "cells": [
    {
      "cell_type": "markdown",
      "source": [
        "## **9.1 檔案的操作**"
      ],
      "metadata": {
        "id": "BUpoThcrj5qK"
      }
    },
    {
      "cell_type": "markdown",
      "source": [
        "### **範例實作 P9-3** ：以讀取模式開啟檔案並顯示資料\n",
        "#### 小龍接著以 open 函式讀取 <file1.txt> 檔，並將資料內容顯示出來。\n",
        "(<fileread1.py>)"
      ],
      "metadata": {
        "id": "g_27weiPJPs6"
      }
    },
    {
      "cell_type": "code",
      "source": [
        "# Please enter your code here"
      ],
      "metadata": {
        "id": "jBKZwzSHkEGN"
      },
      "execution_count": 1,
      "outputs": []
    },
    {
      "cell_type": "markdown",
      "source": [
        "<br>"
      ],
      "metadata": {
        "id": "NTBNJinrsTrJ"
      }
    },
    {
      "cell_type": "markdown",
      "source": [
        "### ⚡**範例實作 P9-4** :以with…as語法開啟檔案並顯示資料\n",
        "#### 小龍也幫阿甘以 with…as 語法搭配open()函式讀取 <file1.txt> 檔，同樣也可以顯示資料內容，而且還會主動關閉檔案。(<fileread2.py>)"
      ],
      "metadata": {
        "id": "ppe2U5JLJnIc"
      }
    },
    {
      "cell_type": "code",
      "execution_count": 2,
      "metadata": {
        "id": "KUEFzxr-HZYx"
      },
      "outputs": [],
      "source": [
        "# Please enter your code here"
      ]
    },
    {
      "cell_type": "markdown",
      "source": [
        "<br>"
      ],
      "metadata": {
        "id": "Fn9gyEH_sS-B"
      }
    },
    {
      "cell_type": "markdown",
      "source": [
        "### ⚡**範例實作 P9-7** : 在每段文章的前面加上編號\n",
        "#### 開啟文字檔 <file3.txt>，以 readlines() 方法讀取所有資料並在每段文章的前面加上編號。(<Addlineno.py>)\n"
      ],
      "metadata": {
        "id": "oiyjUPL7lAzM"
      }
    },
    {
      "cell_type": "code",
      "source": [
        "# Please enter your code here"
      ],
      "metadata": {
        "id": "8SlSPOE1lFU6"
      },
      "execution_count": 3,
      "outputs": []
    },
    {
      "cell_type": "markdown",
      "source": [
        "<br>"
      ],
      "metadata": {
        "id": "Pz0W8DWUsRH3"
      }
    },
    {
      "cell_type": "markdown",
      "source": [
        "### **延伸練習 P9-8**：\n",
        "#### 開啟文字檔<file2_cl.txt>，以 read() 方法讀取後計算文章中總共有多少個字元。(<Addlineno_cl.py>)"
      ],
      "metadata": {
        "id": "Xsb9Kj-MlcWx"
      }
    },
    {
      "cell_type": "code",
      "source": [
        "# Please enter your code here"
      ],
      "metadata": {
        "id": "xUdVlRQpldGi"
      },
      "execution_count": 4,
      "outputs": []
    },
    {
      "cell_type": "markdown",
      "source": [
        "<br>"
      ],
      "metadata": {
        "id": "VyG2Vua-sP39"
      }
    },
    {
      "cell_type": "markdown",
      "source": [
        "## **9.2 檔案和目錄管理**"
      ],
      "metadata": {
        "id": "m_AWmUgSqT81"
      }
    },
    {
      "cell_type": "markdown",
      "source": [
        "### ⚡**範例實作 P9-10** ：rmdir方法\n",
        "#### 檢查<myDir>資料夾是否存在，如果在則刪除，不在則顯示訊息。(<osrmdir.py>)"
      ],
      "metadata": {
        "id": "HBCc5i-mqZ2v"
      }
    },
    {
      "cell_type": "code",
      "source": [
        "# Please enter your code here"
      ],
      "metadata": {
        "id": "MT9NwPcwq_qu"
      },
      "execution_count": 5,
      "outputs": []
    },
    {
      "cell_type": "markdown",
      "source": [
        "<br>"
      ],
      "metadata": {
        "id": "Ilu6-oqlsMHu"
      }
    },
    {
      "cell_type": "markdown",
      "source": [
        "## **9.3 例外處理**"
      ],
      "metadata": {
        "id": "-sYr_R6fllwQ"
      }
    },
    {
      "cell_type": "markdown",
      "source": [
        "### ⚡**範例實作 P9-12** ：輸入兩個正整數求和，捕捉輸入的錯誤\n",
        "#### 班上的除錯高手大元，在他的程式中加入了錯誤的捕捉，在輸入兩個正整數，求兩數之和的程式中，若輸入非數值資料，可以 try…except 輕鬆捕捉發生的錯誤。(<tryadd.py>)\n",
        "\n"
      ],
      "metadata": {
        "id": "LWVV40vblqi1"
      }
    },
    {
      "cell_type": "code",
      "source": [
        "# Please enter your code here"
      ],
      "metadata": {
        "id": "npNOBAR_lmUM"
      },
      "execution_count": 6,
      "outputs": []
    },
    {
      "cell_type": "markdown",
      "source": [
        "<br>"
      ],
      "metadata": {
        "id": "WmAv5i7VsJYh"
      }
    },
    {
      "cell_type": "markdown",
      "source": [
        "### ⚡**延伸練習 P9-13** :\n",
        "#### 大元接著又改進以 open 函式開啟檔案並顯示檔案內容的程式，讓程式處理當輸入檔案不存在或檔案開啟錯誤時，可以 try…except 捕捉發生的錯誤。(<tryopenfile.py>)"
      ],
      "metadata": {
        "id": "4kRlyByvl3Hx"
      }
    },
    {
      "cell_type": "code",
      "source": [
        "# Please enter your code here"
      ],
      "metadata": {
        "id": "2O2Y3BGil8Fy"
      },
      "execution_count": 7,
      "outputs": []
    },
    {
      "cell_type": "markdown",
      "source": [
        "<br>"
      ],
      "metadata": {
        "id": "l644jfy0sHqn"
      }
    },
    {
      "cell_type": "markdown",
      "source": [
        "### **範例實作 P9-14** ：捕捉非數值資料和除數為 0 的錯誤\n",
        "#### 放假回來，大元展示他的得意作品。當輸入兩個正整數，求兩數之餘數時，可以 try…except 捕捉多個發生的錯誤，包括輸入非數值資料和除數為 0 的錯誤，大家都同聲說讚。(<trymod.py>)"
      ],
      "metadata": {
        "id": "DM5Go1faoA3M"
      }
    },
    {
      "cell_type": "code",
      "source": [
        "# Please enter your code here"
      ],
      "metadata": {
        "id": "mWr0xPYLoCYG"
      },
      "execution_count": 8,
      "outputs": []
    },
    {
      "cell_type": "markdown",
      "source": [
        "<br>"
      ],
      "metadata": {
        "id": "eHhcE-K_sFR9"
      }
    },
    {
      "cell_type": "markdown",
      "source": [
        "### ⚡**延伸練習 P9-15** ：\n",
        "#### 輸入兩個正整數，求兩數相除，以 try…except 捕捉發生的錯誤，包括輸入非數值資料和除數為 0 的錯誤。(<trydiv.py>)"
      ],
      "metadata": {
        "id": "c2AjisqAoGaK"
      }
    },
    {
      "cell_type": "code",
      "source": [
        "# Please enter your code here"
      ],
      "metadata": {
        "id": "wV-nNbM4oIZo"
      },
      "execution_count": 9,
      "outputs": []
    },
    {
      "cell_type": "markdown",
      "metadata": {
        "id": "077c04d4"
      },
      "source": [
        "<br>\n",
        "\n"
      ]
    },
    {
      "cell_type": "markdown",
      "metadata": {
        "id": "78773e4a"
      },
      "source": [
        "### 延伸練習：\n",
        "#### 開啟文字檔<font color=\"red\"><file2_cl.txt></font>，以 read() 方法讀取後計算文章中總共有多少個字元。(<Addlineno_cl.py>)"
      ]
    }
  ]
}